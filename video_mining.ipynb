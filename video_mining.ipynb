{
  "nbformat": 4,
  "nbformat_minor": 0,
  "metadata": {
    "colab": {
      "name": "video_mining.ipynb",
      "provenance": [],
      "collapsed_sections": [],
      "toc_visible": true,
      "include_colab_link": true
    },
    "kernelspec": {
      "name": "python3",
      "display_name": "Python 3"
    }
  },
  "cells": [
    {
      "cell_type": "markdown",
      "metadata": {
        "id": "view-in-github",
        "colab_type": "text"
      },
      "source": [
        "<a href=\"https://colab.research.google.com/github/doubleblindreview2/jbr_video_mining/blob/master/video_mining.ipynb\" target=\"_parent\"><img src=\"https://colab.research.google.com/assets/colab-badge.svg\" alt=\"Open In Colab\"/></a>"
      ]
    },
    {
      "cell_type": "markdown",
      "metadata": {
        "id": "5fHqjvh9mS82",
        "colab_type": "text"
      },
      "source": [
        "# **1. Load All Models**\n",
        "You need a Google Account to verify your legitimate use \n"
      ]
    },
    {
      "cell_type": "code",
      "metadata": {
        "id": "zUUG2Emgx_ET",
        "colab_type": "code",
        "colab": {}
      },
      "source": [
        "### Import required libraries\n",
        "import os\n",
        "from pydrive.auth import GoogleAuth\n",
        "from pydrive.drive import GoogleDrive\n",
        "from google.colab import auth\n",
        "from oauth2client.client import GoogleCredentials"
      ],
      "execution_count": 0,
      "outputs": []
    },
    {
      "cell_type": "code",
      "metadata": {
        "id": "WhD5gLYbzkOR",
        "colab_type": "code",
        "colab": {}
      },
      "source": [
        "### Verify you are a legitimate user\n",
        "auth.authenticate_user()\n",
        "gauth = GoogleAuth()\n",
        "gauth.credentials = GoogleCredentials.get_application_default()\n",
        "drive = GoogleDrive(gauth)"
      ],
      "execution_count": 0,
      "outputs": []
    },
    {
      "cell_type": "code",
      "metadata": {
        "id": "O2hky3wJF17G",
        "colab_type": "code",
        "colab": {
          "base_uri": "https://localhost:8080/",
          "height": 52
        },
        "outputId": "c6b4ec31-b8b7-4c4b-f1c9-4d879c670783"
      },
      "source": [
        "### Download models from public Drive\n",
        "if not os.path.exists('downloads'): os.makedirs('downloads')\n",
        "os.chdir('./downloads/')\n",
        "\n",
        "folder_id = '1e-UQc-ylzVOOvW2ZiOCpnP-EEziHA4cQ'\n",
        "file_list = drive.ListFile({'q': \"'{}' in parents and trashed=false\".format(folder_id)}).GetList()\n",
        "for i, file in enumerate(sorted(file_list, key = lambda x: x['title']), start=1):\n",
        "    print('Downloading {} from Public GDrive ({}/{})'.format(file['title'], i, len(file_list)))\n",
        "    file.GetContentFile(file['title'])\n",
        "\n",
        "os.chdir('..')"
      ],
      "execution_count": 14,
      "outputs": [
        {
          "output_type": "stream",
          "text": [
            "Downloading rgb2colors.csv from GDrive (1/2)\n",
            "Downloading video_mining_functions.py from GDrive (2/2)\n"
          ],
          "name": "stdout"
        }
      ]
    },
    {
      "cell_type": "markdown",
      "metadata": {
        "id": "4f_8XH-Bmmee",
        "colab_type": "text"
      },
      "source": [
        "# **2. Mount Your Drive and Provide Input**\n",
        "You need to provide a Google Drive Account, which includes:\n",
        "- Video files for video mining\n",
        "- Folder for video mining results _(can be empty)_ \n",
        "- Folder for log file _(can be  empty)_\n"
      ]
    },
    {
      "cell_type": "code",
      "metadata": {
        "id": "42Icp9RCnAYB",
        "colab_type": "code",
        "colab": {}
      },
      "source": [
        "### Mount Your Google Drive\n",
        "from google.colab import drive\n",
        "drive.mount('/content/drive')"
      ],
      "execution_count": 0,
      "outputs": []
    },
    {
      "cell_type": "code",
      "metadata": {
        "id": "7Xc6ul7ETY2g",
        "colab_type": "code",
        "colab": {}
      },
      "source": [
        "### Provide data input for analyis - change required information here\n",
        "in_folder  = './drive/My Drive/trailer/vids/'                   # folder with all videos, names will be used as IDs\n",
        "out_folder = './drive/My Drive/trailer/preds/'                  # folder to store extracted features\n",
        "log_name   = 'logfile.csv'                                      # name of lofile, including ending .csv\n",
        "log_folder = './drive/My Drive/trailer/logs/'                   # folder for logfile\n",
        "yolo_folder= 'D:/JBR_video_mining/yolov3/'                      # TO BE REPLACED directory for yolov3 folder    \n",
        "\n",
        "### Select features to be extracted\n",
        "extract_length           = False                                # get length of video\n",
        "extract_cuts             = False                                # get scene cuts\n",
        "extract_colors           = False                                # get brightness and  color information\n",
        "extract_faces            = False                                # get faces\n",
        "extract_emotions         = False                                # get 8 different emotions per face \n",
        "extract_objects          = False                                # get 80 objects"
      ],
      "execution_count": 0,
      "outputs": []
    },
    {
      "cell_type": "markdown",
      "metadata": {
        "id": "-Ia-dYV4nBJb",
        "colab_type": "text"
      },
      "source": [
        "# **3. Run Video Mining**\n",
        "No additional input required"
      ]
    },
    {
      "cell_type": "code",
      "metadata": {
        "id": "Yo_xgtI-ONHB",
        "colab_type": "code",
        "colab": {}
      },
      "source": [
        "from downloads.video_mining_functions import*"
      ],
      "execution_count": 0,
      "outputs": []
    },
    {
      "cell_type": "code",
      "metadata": {
        "id": "9HaWyn_Gnr49",
        "colab_type": "code",
        "colab": {}
      },
      "source": [
        "# TBD - FIND SMART WAY TO IMPORT REQUIRED MODELS ETC."
      ],
      "execution_count": 0,
      "outputs": []
    }
  ]
}