{
  "nbformat": 4,
  "nbformat_minor": 0,
  "metadata": {
    "colab": {
      "name": "video_mining.ipynb",
      "provenance": [],
      "collapsed_sections": [],
      "toc_visible": true,
      "include_colab_link": true
    },
    "kernelspec": {
      "name": "python3",
      "display_name": "Python 3"
    },
    "accelerator": "GPU"
  },
  "cells": [
    {
      "cell_type": "markdown",
      "metadata": {
        "id": "view-in-github",
        "colab_type": "text"
      },
      "source": [
        "<a href=\"https://colab.research.google.com/github/doubleblindreview2/jbr_video_mining/blob/master/video_mining.ipynb\" target=\"_parent\"><img src=\"https://colab.research.google.com/assets/colab-badge.svg\" alt=\"Open In Colab\"/></a>"
      ]
    },
    {
      "cell_type": "markdown",
      "metadata": {
        "id": "pW5CvsYJskRb",
        "colab_type": "text"
      },
      "source": [
        "# **JBR Video Mining Script**\n",
        "- **Output**: This script extracts various video features from a given set of videos and stores these features in multiple .csv files, which can be opened with Excel or any text editor afterwards. It will store results in your Google Drive. This requires some free space (<1 MB).\n",
        "- **Input**: You need to provide a Google Drive Account with a folder with video files. Atlernatively, one example video is provided. \n",
        "- **Execution**: In order to execute this script, **run all cells from top to bottom and follow the instructions**"
      ]
    },
    {
      "cell_type": "markdown",
      "metadata": {
        "id": "5fHqjvh9mS82",
        "colab_type": "text"
      },
      "source": [
        "## **1. Download Models**\n",
        "_You need a Google Account to verify your legitimate use; The models will be automatically downloaded from a public GDrive_\n",
        "_____________________________________________________________________________\n",
        "\n"
      ]
    },
    {
      "cell_type": "code",
      "metadata": {
        "id": "dlDsxEbfP891",
        "colab_type": "code",
        "colab": {
          "base_uri": "https://localhost:8080/",
          "height": 303
        },
        "outputId": "d97043d5-0280-43bc-90eb-68778f1f707b"
      },
      "source": [
        "!pip install -U pillow==6.1\n",
        "print('\\n successfully executed, please proceed with next step\\n')"
      ],
      "execution_count": 1,
      "outputs": [
        {
          "output_type": "stream",
          "text": [
            "Collecting pillow==6.1\n",
            "\u001b[?25l  Downloading https://files.pythonhosted.org/packages/14/41/db6dec65ddbc176a59b89485e8cc136a433ed9c6397b6bfe2cd38412051e/Pillow-6.1.0-cp36-cp36m-manylinux1_x86_64.whl (2.1MB)\n",
            "\u001b[K     |████████████████████████████████| 2.1MB 2.9MB/s \n",
            "\u001b[31mERROR: albumentations 0.1.12 has requirement imgaug<0.2.7,>=0.2.5, but you'll have imgaug 0.2.9 which is incompatible.\u001b[0m\n",
            "\u001b[?25hInstalling collected packages: pillow\n",
            "  Found existing installation: Pillow 7.0.0\n",
            "    Uninstalling Pillow-7.0.0:\n",
            "      Successfully uninstalled Pillow-7.0.0\n",
            "Successfully installed pillow-6.1.0\n"
          ],
          "name": "stdout"
        },
        {
          "output_type": "display_data",
          "data": {
            "application/vnd.colab-display-data+json": {
              "pip_warning": {
                "packages": [
                  "PIL"
                ]
              }
            }
          },
          "metadata": {
            "tags": []
          }
        },
        {
          "output_type": "stream",
          "text": [
            "\n",
            " successfully executed, please proceed with next step\n",
            "\n"
          ],
          "name": "stdout"
        }
      ]
    },
    {
      "cell_type": "markdown",
      "metadata": {
        "id": "okoFRhcK7n-d",
        "colab_type": "text"
      },
      "source": [
        "**<font color='red'>After completion: Please click -> Runtime -> Change runtime type -> GPU in top menu</font>**\n",
        "\n",
        "If runtime is already set to GPU, please click Runtime -> Restart runtime"
      ]
    },
    {
      "cell_type": "code",
      "metadata": {
        "id": "zUUG2Emgx_ET",
        "colab_type": "code",
        "colab": {
          "base_uri": "https://localhost:8080/",
          "height": 67
        },
        "outputId": "a2691150-cc5f-4535-b12c-919811359f39"
      },
      "source": [
        "import os\n",
        "import shutil\n",
        "from pydrive.auth import GoogleAuth\n",
        "from pydrive.drive import GoogleDrive\n",
        "from google.colab import auth\n",
        "from oauth2client.client import GoogleCredentials\n",
        "from tqdm import tqdm\n",
        "print('\\n successfully executed, please proceed with next step\\n')"
      ],
      "execution_count": 1,
      "outputs": [
        {
          "output_type": "stream",
          "text": [
            "\n",
            " successfully executed, please proceed with next step\n",
            "\n"
          ],
          "name": "stdout"
        }
      ]
    },
    {
      "cell_type": "markdown",
      "metadata": {
        "id": "jkvXvCwDhBlU",
        "colab_type": "text"
      },
      "source": [
        "Running the next cell will create a link. **You need to click this link and enter your Google Account credentials. Copy the code and enter it in the space below.**"
      ]
    },
    {
      "cell_type": "code",
      "metadata": {
        "id": "WhD5gLYbzkOR",
        "colab_type": "code",
        "colab": {
          "base_uri": "https://localhost:8080/",
          "height": 72
        },
        "outputId": "5102cee0-2db1-45c7-8e89-b54b3ec17d7f"
      },
      "source": [
        "auth.authenticate_user()\n",
        "gauth = GoogleAuth()\n",
        "gauth.credentials = GoogleCredentials.get_application_default()\n",
        "drive = GoogleDrive(gauth)\n",
        "print('\\n successfully executed, please proceed with next step\\n')"
      ],
      "execution_count": 2,
      "outputs": [
        {
          "output_type": "stream",
          "text": [
            "\n",
            " successfully executed, please proceed with next step\n",
            "\n"
          ],
          "name": "stdout"
        }
      ]
    },
    {
      "cell_type": "markdown",
      "metadata": {
        "id": "xdNhcxUim2ta",
        "colab_type": "text"
      },
      "source": [
        "Running the next cell will download required models from a public GDrive. After running it, you can verify success by clicking on the folder icon on the left side of this screen.There should be a 'downloads' folder containing various files (You may need to click 'Refresh')."
      ]
    },
    {
      "cell_type": "code",
      "metadata": {
        "id": "O2hky3wJF17G",
        "colab_type": "code",
        "colab": {
          "base_uri": "https://localhost:8080/",
          "height": 90
        },
        "outputId": "275297e2-2783-41d3-9862-a8ec358f0ca9"
      },
      "source": [
        "if not os.path.exists('/content/downloads/'): os.makedirs('/content/downloads/')\n",
        "os.chdir('./downloads/')\n",
        "\n",
        "folder_id = '1e-UQc-ylzVOOvW2ZiOCpnP-EEziHA4cQ'\n",
        "file_list = drive.ListFile({'q': \"'{}' in parents and trashed=false\".format(folder_id)}).GetList()\n",
        "for file in tqdm(file_list):\n",
        "    file.GetContentFile(file['title'])\n",
        "\n",
        "os.chdir('/content/')\n",
        "print('\\n successfully executed, please proceed with next step\\n')"
      ],
      "execution_count": 3,
      "outputs": [
        {
          "output_type": "stream",
          "text": [
            "100%|██████████| 19/19 [01:46<00:00,  5.60s/it]"
          ],
          "name": "stderr"
        },
        {
          "output_type": "stream",
          "text": [
            "\n",
            " successfully executed, please proceed with next step\n",
            "\n"
          ],
          "name": "stdout"
        },
        {
          "output_type": "stream",
          "text": [
            "\n"
          ],
          "name": "stderr"
        }
      ]
    },
    {
      "cell_type": "markdown",
      "metadata": {
        "id": "4f_8XH-Bmmee",
        "colab_type": "text"
      },
      "source": [
        "## **2. Provide Input & Select Features**\n",
        "_You need to provide a Google Drive Account, which includes a folder with video files for video mining._\n",
        "_____________________________________________________________\n"
      ]
    },
    {
      "cell_type": "markdown",
      "metadata": {
        "id": "l1G3nRSNiHPi",
        "colab_type": "text"
      },
      "source": [
        "Running the next cell will create a link. **You need to click this link and enter your Google Account credentials. Copy the code and enter it in the space below.** If you just want to test the example video, you can skip this step."
      ]
    },
    {
      "cell_type": "code",
      "metadata": {
        "id": "42Icp9RCnAYB",
        "colab_type": "code",
        "colab": {}
      },
      "source": [
        "from google.colab import drive\n",
        "drive.mount('/content/drive')\n",
        "print('\\n successfully executed, please proceed with next step\\n')"
      ],
      "execution_count": 0,
      "outputs": []
    },
    {
      "cell_type": "markdown",
      "metadata": {
        "id": "7S84YwhciPYP",
        "colab_type": "text"
      },
      "source": [
        "**Please provide the correct path to your folder with videos. You probably need to change the text after '/My Drive/ and uncomment the line**. If you just want to test an example video, leave the folder path to 'None'\n",
        "\n",
        "You can verify the correct path by clicking on the folder icon on the left side of this screen and search within the 'drive' folder. (You may need to click 'Refresh') "
      ]
    },
    {
      "cell_type": "code",
      "metadata": {
        "id": "7Xc6ul7ETY2g",
        "colab_type": "code",
        "colab": {
          "base_uri": "https://localhost:8080/",
          "height": 72
        },
        "outputId": "0a0c936c-cb66-4aee-afd3-4b3f57dd4e1f"
      },
      "source": [
        "in_folder  = None #'/content/drive/My Drive/trailer/vids/'  folder with videos, names are used as IDs\n",
        "print('\\n successfully executed, please proceed with next step\\n')"
      ],
      "execution_count": 4,
      "outputs": [
        {
          "output_type": "stream",
          "text": [
            "\n",
            " successfully executed, please proceed with next step\n",
            "\n"
          ],
          "name": "stdout"
        }
      ]
    },
    {
      "cell_type": "markdown",
      "metadata": {
        "id": "oLOyesxvnRKy",
        "colab_type": "text"
      },
      "source": [
        "If you do not provide a video_folder, the following cell will create a folder with one example_video for analysis\n"
      ]
    },
    {
      "cell_type": "code",
      "metadata": {
        "id": "88LL5s2ZnRYU",
        "colab_type": "code",
        "colab": {
          "base_uri": "https://localhost:8080/",
          "height": 72
        },
        "outputId": "ff2ad230-d760-470e-9cde-a84125eba66c"
      },
      "source": [
        "if in_folder == '' or in_folder == None: \n",
        "  if not os.path.exists('/content/examples/'): os.makedirs('/content/examples/')\n",
        "  shutil.copy('/content/downloads/example_video.mp4','/content/examples/example_video.mp4')\n",
        "  in_folder = '/content/examples/'\n",
        "print('\\n successfully executed, please proceed with next step\\n')"
      ],
      "execution_count": 5,
      "outputs": [
        {
          "output_type": "stream",
          "text": [
            "\n",
            " successfully executed, please proceed with next step\n",
            "\n"
          ],
          "name": "stdout"
        }
      ]
    },
    {
      "cell_type": "markdown",
      "metadata": {
        "id": "mJuuNBDUkGee",
        "colab_type": "text"
      },
      "source": [
        "You **can unselect features** you are not interested in **by writing 'False' instead of 'True'**. This may drastically increase processing speed."
      ]
    },
    {
      "cell_type": "code",
      "metadata": {
        "id": "3BR9d_Kvui7m",
        "colab_type": "code",
        "colab": {
          "base_uri": "https://localhost:8080/",
          "height": 72
        },
        "outputId": "4b542b9a-24b1-4f72-ff9d-c0b446b64c5b"
      },
      "source": [
        "extract_length           = True # get length of video\n",
        "extract_cuts             = True # get scene cuts\n",
        "extract_colors           = True # get brightness and  color information\n",
        "extract_faces            = True # get faces\n",
        "extract_emotions         = True # get 8 different emotions per face \n",
        "extract_objects          = True # get 80 objects\n",
        "extract_variance         = True # get semantic variance\n",
        "extract_quality          = True # get quality\n",
        "print('\\n successfully executed, please proceed with next step\\n')"
      ],
      "execution_count": 6,
      "outputs": [
        {
          "output_type": "stream",
          "text": [
            "\n",
            " successfully executed, please proceed with next step\n",
            "\n"
          ],
          "name": "stdout"
        }
      ]
    },
    {
      "cell_type": "markdown",
      "metadata": {
        "id": "jnI2Vu0djci4",
        "colab_type": "text"
      },
      "source": [
        "## **3. Provide Optional Input**\n",
        "_**Run all cells - no additional input required, however you may change things to customize execution**_\n",
        "_____________________________________________________________\n",
        "\n",
        "The following folders and the logfile will be created to store the results of your analysis. **You do not have to change them, unless you want to use your custom folder** structure to store results"
      ]
    },
    {
      "cell_type": "code",
      "metadata": {
        "id": "505rRLPFjeGG",
        "colab_type": "code",
        "colab": {
          "base_uri": "https://localhost:8080/",
          "height": 72
        },
        "outputId": "44086bb5-5651-4fd5-c132-703d14c16eeb"
      },
      "source": [
        "out_folder = '/content/drive/My Drive/video_analysis/preds/' # folder to store extracted features\n",
        "log_name   = '2020-06-09_logfile.csv' # name of lofile, pls include .csv ending \n",
        "log_folder = '/content/drive/My Drive/video_analysis/logs/' # folder for logfile\n",
        "print('\\n successfully executed, please proceed with next step\\n')"
      ],
      "execution_count": 7,
      "outputs": [
        {
          "output_type": "stream",
          "text": [
            "\n",
            " successfully executed, please proceed with next step\n",
            "\n"
          ],
          "name": "stdout"
        }
      ]
    },
    {
      "cell_type": "markdown",
      "metadata": {
        "id": "GXdB63WE40CN",
        "colab_type": "text"
      },
      "source": [
        "Setting a start and end index allows you to only analyze a subset of the videos in your folder. **You do not have to change this, if you want to analyze all videos in your provided folder.**"
      ]
    },
    {
      "cell_type": "code",
      "metadata": {
        "id": "UNLRRRV_40K2",
        "colab_type": "code",
        "colab": {
          "base_uri": "https://localhost:8080/",
          "height": 72
        },
        "outputId": "6a642c47-0fa0-4bd1-f087-3fa375a205af"
      },
      "source": [
        "start_index = 0\n",
        "end_index = len(os.listdir(in_folder))\n",
        "print('\\n successfully executed, please proceed with next step\\n')"
      ],
      "execution_count": 8,
      "outputs": [
        {
          "output_type": "stream",
          "text": [
            "\n",
            " successfully executed, please proceed with next step\n",
            "\n"
          ],
          "name": "stdout"
        }
      ]
    },
    {
      "cell_type": "markdown",
      "metadata": {
        "id": "AYU3L3SU4h4m",
        "colab_type": "text"
      },
      "source": [
        "## **4. Extract Selected Features**\n",
        "_**Run all cells - no additional input required**_\n",
        "_____________________________________________________________________________\n",
        "\n",
        "_This will extract your selected features by looping through your provided video files folder. (Depending on number and size of your videos, this may take some minutes or multiple hours)._"
      ]
    },
    {
      "cell_type": "code",
      "metadata": {
        "id": "sopyJEtc3fIP",
        "colab_type": "code",
        "colab": {
          "base_uri": "https://localhost:8080/",
          "height": 72
        },
        "outputId": "7a99e64e-1873-4865-fe12-6e3379a4cf69"
      },
      "source": [
        "variables = ''\n",
        "for variable in ['extract_length',\n",
        "                 'extract_cuts',\n",
        "                 'extract_colors',\n",
        "                 'extract_faces',\n",
        "                 'extract_emotions',\n",
        "                 'extract_variance',\n",
        "                 'extract_objects',\n",
        "                 'extract_quality',\n",
        "                 'start_index',\n",
        "                 'end_index']:\n",
        "  variables += ' --' + variable.replace('_','-') + ' ' + str(eval(variable))\n",
        "\n",
        "for variable in ['in_folder',\n",
        "                 'out_folder',\n",
        "                 'log_folder',\n",
        "                 'log_name']:\n",
        "  variables += ' --' + variable.replace('_','-') + ' \"' + str(eval(variable))+'\"'\n",
        "print('\\n successfully executed, please proceed with next step\\n')"
      ],
      "execution_count": 9,
      "outputs": [
        {
          "output_type": "stream",
          "text": [
            "\n",
            " successfully executed, please proceed with next step\n",
            "\n"
          ],
          "name": "stdout"
        }
      ]
    },
    {
      "cell_type": "code",
      "metadata": {
        "id": "FPrqCL5136LT",
        "colab_type": "code",
        "colab": {
          "base_uri": "https://localhost:8080/",
          "height": 1000
        },
        "outputId": "99ccf1dc-04be-4cea-8b0e-12097ca5458b"
      },
      "source": [
        "!python \"/content/downloads/jbr_run.py\" {variables}\n",
        "print('\\n successfully executed, please proceed with next step\\n')"
      ],
      "execution_count": 0,
      "outputs": [
        {
          "output_type": "stream",
          "text": [
            "Using TensorFlow backend.\n",
            "2020-06-16 10:51:47.107585: I tensorflow/stream_executor/platform/default/dso_loader.cc:44] Successfully opened dynamic library libcudart.so.10.1\n",
            "Visual variance requires scene cuts and will automatically extract scene cuts, setting scene_cuts to False\n",
            "\n",
            "Analysis of 1 videos begins:\n",
            "\n",
            "  0% 0/1 [00:00<?, ?it/s]\n",
            "\n",
            "Analyze example_video.mp4\n",
            "2020-06-16 10:55:51.547160: I tensorflow/stream_executor/platform/default/dso_loader.cc:44] Successfully opened dynamic library libcuda.so.1\n",
            "2020-06-16 10:55:51.547632: I tensorflow/stream_executor/cuda/cuda_gpu_executor.cc:981] successful NUMA node read from SysFS had negative value (-1), but there must be at least one NUMA node, so returning NUMA node zero\n",
            "2020-06-16 10:55:51.548449: I tensorflow/core/common_runtime/gpu/gpu_device.cc:1561] Found device 0 with properties: \n",
            "pciBusID: 0000:00:04.0 name: Tesla K80 computeCapability: 3.7\n",
            "coreClock: 0.8235GHz coreCount: 13 deviceMemorySize: 11.17GiB deviceMemoryBandwidth: 223.96GiB/s\n",
            "2020-06-16 10:55:51.548508: I tensorflow/stream_executor/platform/default/dso_loader.cc:44] Successfully opened dynamic library libcudart.so.10.1\n",
            "2020-06-16 10:55:51.820257: I tensorflow/stream_executor/platform/default/dso_loader.cc:44] Successfully opened dynamic library libcublas.so.10\n",
            "2020-06-16 10:55:51.971690: I tensorflow/stream_executor/platform/default/dso_loader.cc:44] Successfully opened dynamic library libcufft.so.10\n",
            "2020-06-16 10:55:51.994361: I tensorflow/stream_executor/platform/default/dso_loader.cc:44] Successfully opened dynamic library libcurand.so.10\n",
            "2020-06-16 10:55:52.258373: I tensorflow/stream_executor/platform/default/dso_loader.cc:44] Successfully opened dynamic library libcusolver.so.10\n",
            "2020-06-16 10:55:52.281477: I tensorflow/stream_executor/platform/default/dso_loader.cc:44] Successfully opened dynamic library libcusparse.so.10\n",
            "2020-06-16 10:55:52.805983: I tensorflow/stream_executor/platform/default/dso_loader.cc:44] Successfully opened dynamic library libcudnn.so.7\n",
            "2020-06-16 10:55:52.806274: I tensorflow/stream_executor/cuda/cuda_gpu_executor.cc:981] successful NUMA node read from SysFS had negative value (-1), but there must be at least one NUMA node, so returning NUMA node zero\n",
            "2020-06-16 10:55:52.807026: I tensorflow/stream_executor/cuda/cuda_gpu_executor.cc:981] successful NUMA node read from SysFS had negative value (-1), but there must be at least one NUMA node, so returning NUMA node zero\n",
            "2020-06-16 10:55:52.807788: I tensorflow/core/common_runtime/gpu/gpu_device.cc:1703] Adding visible gpu devices: 0\n",
            "2020-06-16 10:55:52.826806: I tensorflow/core/platform/profile_utils/cpu_utils.cc:102] CPU Frequency: 2300000000 Hz\n",
            "2020-06-16 10:55:52.827079: I tensorflow/compiler/xla/service/service.cc:168] XLA service 0x176d21c0 initialized for platform Host (this does not guarantee that XLA will be used). Devices:\n",
            "2020-06-16 10:55:52.827118: I tensorflow/compiler/xla/service/service.cc:176]   StreamExecutor device (0): Host, Default Version\n",
            "2020-06-16 10:55:52.839755: I tensorflow/stream_executor/cuda/cuda_gpu_executor.cc:981] successful NUMA node read from SysFS had negative value (-1), but there must be at least one NUMA node, so returning NUMA node zero\n",
            "2020-06-16 10:55:52.840638: I tensorflow/compiler/xla/service/service.cc:168] XLA service 0x176d2380 initialized for platform CUDA (this does not guarantee that XLA will be used). Devices:\n",
            "2020-06-16 10:55:52.840678: I tensorflow/compiler/xla/service/service.cc:176]   StreamExecutor device (0): Tesla K80, Compute Capability 3.7\n",
            "2020-06-16 10:55:52.840930: I tensorflow/stream_executor/cuda/cuda_gpu_executor.cc:981] successful NUMA node read from SysFS had negative value (-1), but there must be at least one NUMA node, so returning NUMA node zero\n",
            "2020-06-16 10:55:52.841651: I tensorflow/core/common_runtime/gpu/gpu_device.cc:1561] Found device 0 with properties: \n",
            "pciBusID: 0000:00:04.0 name: Tesla K80 computeCapability: 3.7\n",
            "coreClock: 0.8235GHz coreCount: 13 deviceMemorySize: 11.17GiB deviceMemoryBandwidth: 223.96GiB/s\n",
            "2020-06-16 10:55:52.841735: I tensorflow/stream_executor/platform/default/dso_loader.cc:44] Successfully opened dynamic library libcudart.so.10.1\n",
            "2020-06-16 10:55:52.841825: I tensorflow/stream_executor/platform/default/dso_loader.cc:44] Successfully opened dynamic library libcublas.so.10\n",
            "2020-06-16 10:55:52.841885: I tensorflow/stream_executor/platform/default/dso_loader.cc:44] Successfully opened dynamic library libcufft.so.10\n",
            "2020-06-16 10:55:52.841938: I tensorflow/stream_executor/platform/default/dso_loader.cc:44] Successfully opened dynamic library libcurand.so.10\n",
            "2020-06-16 10:55:52.842005: I tensorflow/stream_executor/platform/default/dso_loader.cc:44] Successfully opened dynamic library libcusolver.so.10\n",
            "2020-06-16 10:55:52.842067: I tensorflow/stream_executor/platform/default/dso_loader.cc:44] Successfully opened dynamic library libcusparse.so.10\n",
            "2020-06-16 10:55:52.842133: I tensorflow/stream_executor/platform/default/dso_loader.cc:44] Successfully opened dynamic library libcudnn.so.7\n",
            "2020-06-16 10:55:52.842315: I tensorflow/stream_executor/cuda/cuda_gpu_executor.cc:981] successful NUMA node read from SysFS had negative value (-1), but there must be at least one NUMA node, so returning NUMA node zero\n",
            "2020-06-16 10:55:52.843063: I tensorflow/stream_executor/cuda/cuda_gpu_executor.cc:981] successful NUMA node read from SysFS had negative value (-1), but there must be at least one NUMA node, so returning NUMA node zero\n",
            "2020-06-16 10:55:52.843743: I tensorflow/core/common_runtime/gpu/gpu_device.cc:1703] Adding visible gpu devices: 0\n",
            "2020-06-16 10:55:52.843809: I tensorflow/core/common_runtime/gpu/gpu_device.cc:1102] Device interconnect StreamExecutor with strength 1 edge matrix:\n",
            "2020-06-16 10:55:52.843838: I tensorflow/core/common_runtime/gpu/gpu_device.cc:1108]      0 \n",
            "2020-06-16 10:55:52.843864: I tensorflow/core/common_runtime/gpu/gpu_device.cc:1121] 0:   N \n",
            "2020-06-16 10:55:52.849243: I tensorflow/stream_executor/cuda/cuda_gpu_executor.cc:981] successful NUMA node read from SysFS had negative value (-1), but there must be at least one NUMA node, so returning NUMA node zero\n",
            "2020-06-16 10:55:52.850013: I tensorflow/stream_executor/cuda/cuda_gpu_executor.cc:981] successful NUMA node read from SysFS had negative value (-1), but there must be at least one NUMA node, so returning NUMA node zero\n",
            "2020-06-16 10:55:52.850738: W tensorflow/core/common_runtime/gpu/gpu_bfc_allocator.cc:39] Overriding allow_growth setting because the TF_FORCE_GPU_ALLOW_GROWTH environment variable is set. Original config value was 0.\n",
            "2020-06-16 10:55:52.850788: I tensorflow/core/common_runtime/gpu/gpu_device.cc:1247] Created TensorFlow device (/job:localhost/replica:0/task:0/device:GPU:0 with 9953 MB memory) -> physical GPU (device: 0, name: Tesla K80, pci bus id: 0000:00:04.0, compute capability: 3.7)\n",
            "2020-06-16 10:55:53.754036: I tensorflow/stream_executor/platform/default/dso_loader.cc:44] Successfully opened dynamic library libcudnn.so.7\n",
            "2020-06-16 10:55:58.080280: I tensorflow/stream_executor/platform/default/dso_loader.cc:44] Successfully opened dynamic library libcublas.so.10\n"
          ],
          "name": "stdout"
        }
      ]
    },
    {
      "cell_type": "code",
      "metadata": {
        "id": "Ens_KjkrxVAu",
        "colab_type": "code",
        "colab": {}
      },
      "source": [
        "print(f'Your feature extraction is completed, you will find your results in {out_folder} on the left side. \\\n",
        "\\nIf you had provided a Drive Account, results will have been automatically stored to this folder in your Drive account')"
      ],
      "execution_count": 0,
      "outputs": []
    },
    {
      "cell_type": "markdown",
      "metadata": {
        "id": "0ihG_fkTcaf_",
        "colab_type": "text"
      },
      "source": [
        "## _**5. APPENDIX: Optional Extras**_\n",
        "_The following code snippets may be used for specific purposes._\n",
        "_____________________________________________________________________________"
      ]
    },
    {
      "cell_type": "markdown",
      "metadata": {
        "id": "w5X0pYqZc8Vh",
        "colab_type": "text"
      },
      "source": [
        "### **5.1 Analyzing videos from Youtube or similar sources**\n",
        "Instead of a folder with videos, this code only requires you to provide a list of URLs. **Please provide this list in he following cell.**"
      ]
    },
    {
      "cell_type": "code",
      "metadata": {
        "id": "mmNgyNJl8K4M",
        "colab_type": "code",
        "colab": {}
      },
      "source": [
        "urls = ['https://www.youtube.com/watch?v=TcMBFSGVi1c',\n",
        "        'https://www.youtube.com/watch?v=VyHV0BRtdxo'] #replace with your list of URLs"
      ],
      "execution_count": 0,
      "outputs": []
    },
    {
      "cell_type": "markdown",
      "metadata": {
        "id": "sgN4JERn9Yf6",
        "colab_type": "text"
      },
      "source": [
        "You **can unselect features** you are not interested in **by writing 'False' instead of 'True'**. This may drastically increase processing speed.\n",
        "\n"
      ]
    },
    {
      "cell_type": "code",
      "metadata": {
        "id": "hsmWZN-v7aGl",
        "colab_type": "code",
        "colab": {}
      },
      "source": [
        "extract_length           = True # get length of video\n",
        "extract_cuts             = True # get scene cuts\n",
        "extract_colors           = True # get brightness and  color information\n",
        "extract_faces            = True # get faces\n",
        "extract_emotions         = True # get 8 different emotions per face \n",
        "extract_objects          = True # get 80 objects\n",
        "extract_variance         = True # get semantic variance\n",
        "extract_quality          = True # get quality"
      ],
      "execution_count": 0,
      "outputs": []
    },
    {
      "cell_type": "markdown",
      "metadata": {
        "id": "9nw-ThBr9l44",
        "colab_type": "text"
      },
      "source": [
        "The following folders and the logfile will be created to store the results of your analysis. You do not have to change them, unless you want to use your custom folder structure to store results"
      ]
    },
    {
      "cell_type": "code",
      "metadata": {
        "id": "pOXmP_pa9m4E",
        "colab_type": "code",
        "colab": {}
      },
      "source": [
        "out_folder = '/content/drive/My Drive/video_analysis/preds/' # folder to store extracted features\n",
        "log_name   = '2020-06-09_logfile_downloads.csv' # name of lofile, pls include .csv ending \n",
        "log_folder = '/content/drive/My Drive/video_analysis/logs/' # folder for logfile"
      ],
      "execution_count": 0,
      "outputs": []
    },
    {
      "cell_type": "markdown",
      "metadata": {
        "id": "L_qNW_WO8yC1",
        "colab_type": "text"
      },
      "source": [
        "**Now you can run all cells to analyze the videos in the URLs provided.** The code will temporarily create a copy of the video in your Colab work environment."
      ]
    },
    {
      "cell_type": "code",
      "metadata": {
        "id": "74nVk57wcj1S",
        "colab_type": "code",
        "colab": {}
      },
      "source": [
        "import os\n",
        "import pandas as pd\n",
        "!pip install -q youtube-dl"
      ],
      "execution_count": 0,
      "outputs": []
    },
    {
      "cell_type": "code",
      "metadata": {
        "id": "V3ZaEl5o7S8O",
        "colab_type": "code",
        "colab": {}
      },
      "source": [
        "if not os.path.exists('/content/download_vids/'): os.mkdir('/content/download_vids/')"
      ],
      "execution_count": 0,
      "outputs": []
    },
    {
      "cell_type": "code",
      "metadata": {
        "id": "3d8VQRmS-c4Z",
        "colab_type": "code",
        "colab": {}
      },
      "source": [
        "in_folder = '/content/download_vids/'\n",
        "start_index = 0\n",
        "device = 0"
      ],
      "execution_count": 0,
      "outputs": []
    },
    {
      "cell_type": "code",
      "metadata": {
        "id": "_mk5tokX_qMQ",
        "colab_type": "code",
        "colab": {}
      },
      "source": [
        "for video in urls:\n",
        "  name = video[-11:]\n",
        "  print(name,video)\n",
        "\n",
        "  if not name+'.mp4' in os.listdir(in_folder):\n",
        "    # !youtube-dl -f 'bestvideo[ext=mp4]' --output $in_folder$name\".%(ext)s\" $video\n",
        "    !youtube-dl --output $in_folder$name\".%(ext)s\" $video\n"
      ],
      "execution_count": 0,
      "outputs": []
    },
    {
      "cell_type": "code",
      "metadata": {
        "id": "h__0t5XVqpXn",
        "colab_type": "code",
        "colab": {}
      },
      "source": [
        "variables = ''\n",
        "for variable in ['extract_length',\n",
        "                'extract_cuts',\n",
        "                'extract_colors',\n",
        "                'extract_faces',\n",
        "                'extract_emotions',\n",
        "                'extract_variance',\n",
        "                'extract_objects',\n",
        "                'extract_quality',\n",
        "                'start_index',\n",
        "                'end_index',\n",
        "                'device']:\n",
        "  variables += ' --' + variable.replace('_','-') + ' ' + str(eval(variable))\n",
        "\n",
        "for variable in ['in_folder',\n",
        "                'out_folder',\n",
        "                'log_folder',\n",
        "                'log_name']:\n",
        "  variables += ' --' + variable.replace('_','-') + ' \"' + str(eval(variable))+'\"'\n",
        "\n",
        "!python \"/content/downloads/jbr_run.py\" {variables}\n"
      ],
      "execution_count": 0,
      "outputs": []
    },
    {
      "cell_type": "markdown",
      "metadata": {
        "id": "DhSU_pf1ghW5",
        "colab_type": "text"
      },
      "source": [
        "### **5.2 Extracting Text from Videos or Images**\n",
        "**TBD.**"
      ]
    }
  ]
}