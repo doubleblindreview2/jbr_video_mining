{
  "nbformat": 4,
  "nbformat_minor": 0,
  "metadata": {
    "colab": {
      "name": "video_mining.ipynb",
      "provenance": [],
      "collapsed_sections": [],
      "include_colab_link": true
    },
    "kernelspec": {
      "name": "python3",
      "display_name": "Python 3"
    },
    "accelerator": "GPU"
  },
  "cells": [
    {
      "cell_type": "markdown",
      "metadata": {
        "id": "view-in-github",
        "colab_type": "text"
      },
      "source": [
        "<a href=\"https://colab.research.google.com/github/doubleblindreview2/jbr_video_mining/blob/master/video_mining.ipynb\" target=\"_parent\"><img src=\"https://colab.research.google.com/assets/colab-badge.svg\" alt=\"Open In Colab\"/></a>"
      ]
    },
    {
      "cell_type": "markdown",
      "metadata": {
        "id": "pW5CvsYJskRb",
        "colab_type": "text"
      },
      "source": [
        "# **JBR Video Mining Script**\n",
        "- **Output**: This script extracts various video features from a given set of videos and stores these features in multiple .csv files, which can be opened with Excel or any text editor afterwards\n",
        "- **Input**: You need to provide a Google Drive Account with a folder with video files\n",
        "- **Execution**: In order to execute this script, run all cells from top to bottom and follow the instructions"
      ]
    },
    {
      "cell_type": "markdown",
      "metadata": {
        "id": "okoFRhcK7n-d",
        "colab_type": "text"
      },
      "source": [
        "Before you start:  **<font color='red'>Please click -> Runtime -> Change runtime type -> GPU in top menu</font>**"
      ]
    },
    {
      "cell_type": "markdown",
      "metadata": {
        "id": "5fHqjvh9mS82",
        "colab_type": "text"
      },
      "source": [
        "## **1. Download Models**\n",
        "_You need a Google Account to verify your legitimate use; The models will be automatically downloaded from a public GDrive_\n",
        "_____________________________________________________________________________\n",
        "\n"
      ]
    },
    {
      "cell_type": "code",
      "metadata": {
        "id": "zUUG2Emgx_ET",
        "colab_type": "code",
        "colab": {}
      },
      "source": [
        "import os\n",
        "from pydrive.auth import GoogleAuth\n",
        "from pydrive.drive import GoogleDrive\n",
        "from google.colab import auth\n",
        "from oauth2client.client import GoogleCredentials\n",
        "from tqdm import tqdm"
      ],
      "execution_count": 0,
      "outputs": []
    },
    {
      "cell_type": "markdown",
      "metadata": {
        "id": "jkvXvCwDhBlU",
        "colab_type": "text"
      },
      "source": [
        "Running the next cell will create a link. **You need to click this link and enter your Google Account credentials. Copy the code and enter it in the space below.**"
      ]
    },
    {
      "cell_type": "code",
      "metadata": {
        "id": "WhD5gLYbzkOR",
        "colab_type": "code",
        "colab": {}
      },
      "source": [
        "auth.authenticate_user()\n",
        "gauth = GoogleAuth()\n",
        "gauth.credentials = GoogleCredentials.get_application_default()\n",
        "drive = GoogleDrive(gauth)"
      ],
      "execution_count": 0,
      "outputs": []
    },
    {
      "cell_type": "markdown",
      "metadata": {
        "id": "xdNhcxUim2ta",
        "colab_type": "text"
      },
      "source": [
        "Running the next cell will download required models from a public GDrive. After running it, you can verify success by clicking on the folder icon on the left side of this screen.There should be a 'downloads' folder containing various files (You may need to click 'Refresh')."
      ]
    },
    {
      "cell_type": "code",
      "metadata": {
        "id": "O2hky3wJF17G",
        "colab_type": "code",
        "outputId": "0ef111f5-d359-4e3e-adf5-1609890200f7",
        "colab": {
          "base_uri": "https://localhost:8080/",
          "height": 34
        }
      },
      "source": [
        "if not os.path.exists('/content/downloads/'): os.makedirs('/content/downloads/')\n",
        "os.chdir('./downloads/')\n",
        "\n",
        "folder_id = '1e-UQc-ylzVOOvW2ZiOCpnP-EEziHA4cQ'\n",
        "file_list = drive.ListFile({'q': \"'{}' in parents and trashed=false\".format(folder_id)}).GetList()\n",
        "for file in tqdm(file_list):\n",
        "    file.GetContentFile(file['title'])\n",
        "\n",
        "os.chdir('/content/')"
      ],
      "execution_count": 3,
      "outputs": [
        {
          "output_type": "stream",
          "text": [
            "100%|██████████| 12/12 [00:39<00:00,  3.30s/it]\n"
          ],
          "name": "stderr"
        }
      ]
    },
    {
      "cell_type": "markdown",
      "metadata": {
        "id": "4f_8XH-Bmmee",
        "colab_type": "text"
      },
      "source": [
        "## **2. Provide Input & Select Features**\n",
        "_You need to provide a Google Drive Account, which includes a folder with video files for video mining._\n",
        "_____________________________________________________________\n"
      ]
    },
    {
      "cell_type": "markdown",
      "metadata": {
        "id": "l1G3nRSNiHPi",
        "colab_type": "text"
      },
      "source": [
        "Running the next cell will create a link. **You need to click this link and enter your Google Account credentials. Copy the code and enter it in the space below.**"
      ]
    },
    {
      "cell_type": "code",
      "metadata": {
        "id": "42Icp9RCnAYB",
        "colab_type": "code",
        "outputId": "848de1c9-2b20-4015-c4bb-7d71520f4361",
        "colab": {
          "base_uri": "https://localhost:8080/",
          "height": 122
        }
      },
      "source": [
        "from google.colab import drive\n",
        "drive.mount('/content/drive')"
      ],
      "execution_count": 4,
      "outputs": [
        {
          "output_type": "stream",
          "text": [
            "Go to this URL in a browser: https://accounts.google.com/o/oauth2/auth?client_id=947318989803-6bn6qk8qdgf4n4g3pfee6491hc0brc4i.apps.googleusercontent.com&redirect_uri=urn%3aietf%3awg%3aoauth%3a2.0%3aoob&response_type=code&scope=email%20https%3a%2f%2fwww.googleapis.com%2fauth%2fdocs.test%20https%3a%2f%2fwww.googleapis.com%2fauth%2fdrive%20https%3a%2f%2fwww.googleapis.com%2fauth%2fdrive.photos.readonly%20https%3a%2f%2fwww.googleapis.com%2fauth%2fpeopleapi.readonly\n",
            "\n",
            "Enter your authorization code:\n",
            "··········\n",
            "Mounted at /content/drive\n"
          ],
          "name": "stdout"
        }
      ]
    },
    {
      "cell_type": "markdown",
      "metadata": {
        "id": "7S84YwhciPYP",
        "colab_type": "text"
      },
      "source": [
        "**Please provide the correct pathes to your folder with videos. You probably need to change the text after '/My Drive/**.\n",
        "\n",
        "You can verify the correct path by clicking on the folder icon on the left side of this screen and search within the 'drive' folder. (You may need to click 'Refresh') "
      ]
    },
    {
      "cell_type": "code",
      "metadata": {
        "id": "7Xc6ul7ETY2g",
        "colab_type": "code",
        "colab": {}
      },
      "source": [
        "in_folder  = '/content/drive/My Drive/trailer/vids/'  # folder with videos, names are used as IDs"
      ],
      "execution_count": 0,
      "outputs": []
    },
    {
      "cell_type": "markdown",
      "metadata": {
        "id": "mJuuNBDUkGee",
        "colab_type": "text"
      },
      "source": [
        "You **can unselect features** you are not interested in **by writing 'False' instead of 'True'**. This may drastically increase processing speed."
      ]
    },
    {
      "cell_type": "code",
      "metadata": {
        "id": "3BR9d_Kvui7m",
        "colab_type": "code",
        "colab": {}
      },
      "source": [
        "extract_length           = True # get length of video\n",
        "extract_cuts             = True # get scene cuts\n",
        "extract_colors           = True # get brightness and  color information\n",
        "extract_faces            = True # get faces\n",
        "extract_emotions         = True # get 8 different emotions per face \n",
        "extract_objects          = True # get 80 objects\n",
        "extract_variance         = True # get semantic variance\n",
        "extract_quality          = True # get quality"
      ],
      "execution_count": 0,
      "outputs": []
    },
    {
      "cell_type": "markdown",
      "metadata": {
        "id": "jnI2Vu0djci4",
        "colab_type": "text"
      },
      "source": [
        "## **4. Provide Optional Input**\n",
        "_**Run all cells - no additional input required, however you may change things to customize execution**_\n",
        "_____________________________________________________________\n",
        "\n",
        "The following folders and the logfile will be created to store the results of your analysis. **You do not have to change them, unless you want to use your custom folder** structure to store results"
      ]
    },
    {
      "cell_type": "code",
      "metadata": {
        "id": "505rRLPFjeGG",
        "colab_type": "code",
        "colab": {}
      },
      "source": [
        "out_folder = '/content/drive/My Drive/trailer/preds/' # folder to store extracted features\n",
        "log_name   = '2020-05-21_logfile.csv' # name of lofile, pls include .csv ending \n",
        "log_folder = '/content/drive/My Drive/trailer/logs/' # folder for logfile"
      ],
      "execution_count": 0,
      "outputs": []
    },
    {
      "cell_type": "markdown",
      "metadata": {
        "id": "GXdB63WE40CN",
        "colab_type": "text"
      },
      "source": [
        "Setting a start and end index allows you to only analyze a subset of the videos in your folder. **You do not have to change this, if you want to analyze all videos in your provided folder.**"
      ]
    },
    {
      "cell_type": "code",
      "metadata": {
        "id": "UNLRRRV_40K2",
        "colab_type": "code",
        "colab": {}
      },
      "source": [
        "start_index = 0\n",
        "end_index = 3 #len(os.listdir(in_folder))"
      ],
      "execution_count": 0,
      "outputs": []
    },
    {
      "cell_type": "markdown",
      "metadata": {
        "id": "Lm1B0xoq4BXn",
        "colab_type": "text"
      },
      "source": [
        "The following code tells the code to use the GPU if required.  **You do not have to change this.**"
      ]
    },
    {
      "cell_type": "code",
      "metadata": {
        "id": "1vCg1anq4APJ",
        "colab_type": "code",
        "colab": {}
      },
      "source": [
        "device = 0"
      ],
      "execution_count": 0,
      "outputs": []
    },
    {
      "cell_type": "markdown",
      "metadata": {
        "id": "AYU3L3SU4h4m",
        "colab_type": "text"
      },
      "source": [
        "## **4. Extract Selected Features**\n",
        "_**Run all cells - no additional input required**_\n",
        "\n",
        "_This will extract your selected features by looping through your provided video files folder. (This may take siginificant amount of time)._"
      ]
    },
    {
      "cell_type": "code",
      "metadata": {
        "id": "sopyJEtc3fIP",
        "colab_type": "code",
        "colab": {}
      },
      "source": [
        " # device number of GPU, do not change and set Runtime Type to GPU\n",
        "variables = ''\n",
        "for variable in ['extract_length',\n",
        "                 'extract_cuts',\n",
        "                 'extract_colors',\n",
        "                 'extract_faces',\n",
        "                 'extract_emotions',\n",
        "                 'extract_variance',\n",
        "                 'extract_objects',\n",
        "                 'extract_quality',\n",
        "                 'start_index',\n",
        "                 'end_index',\n",
        "                 'device']:\n",
        "  variables += ' --' + variable.replace('_','-') + ' ' + str(eval(variable))\n",
        "\n",
        "for variable in ['in_folder',\n",
        "                 'out_folder',\n",
        "                 'log_folder',\n",
        "                 'log_name']:\n",
        "  variables += ' --' + variable.replace('_','-') + ' \"' + str(eval(variable))+'\"'"
      ],
      "execution_count": 0,
      "outputs": []
    },
    {
      "cell_type": "code",
      "metadata": {
        "id": "HnUnsUD16EN8",
        "colab_type": "code",
        "outputId": "0f2ecd9d-db28-4d75-9edc-c69bcd5589ae",
        "colab": {
          "base_uri": "https://localhost:8080/",
          "height": 54
        }
      },
      "source": [
        "variables"
      ],
      "execution_count": 17,
      "outputs": [
        {
          "output_type": "execute_result",
          "data": {
            "text/plain": [
              "' --extract-length True --extract-cuts True --extract-colors True --extract-faces True --extract-emotions True --extract-variance True --extract-objects True --extract-quality True --start-index 0 --end-index 3 --device 0 --in-folder \"/content/drive/My Drive/trailer/vids/\" --out-folder \"/content/drive/My Drive/trailer/preds/\" --log-folder \"/content/drive/My Drive/trailer/logs/\" --log-name \"2020-05-21_logfile.csv\"'"
            ]
          },
          "metadata": {
            "tags": []
          },
          "execution_count": 17
        }
      ]
    },
    {
      "cell_type": "code",
      "metadata": {
        "id": "FPrqCL5136LT",
        "colab_type": "code",
        "outputId": "01988dd9-bdb4-480a-983a-e3fffe519df2",
        "colab": {
          "base_uri": "https://localhost:8080/",
          "height": 1000
        }
      },
      "source": [
        "!python \"/content/downloads/jbr_run.py\" {variables}"
      ],
      "execution_count": 19,
      "outputs": [
        {
          "output_type": "stream",
          "text": [
            "Visual variance requires scene cuts and will automatically extract scene cuts\n",
            "\n",
            "Analysis of 3 videos begins:\n",
            "\n",
            "  0% 0/3 [00:00<?, ?it/s]\n",
            "\n",
            "Analyze pzysZI-1LN8_tt1724597.mp4\n",
            "2020-05-21 18:07:15.843076: I tensorflow/stream_executor/platform/default/dso_loader.cc:44] Successfully opened dynamic library libcudart.so.10.1\n",
            "2020-05-21 18:07:17.425573: I tensorflow/stream_executor/platform/default/dso_loader.cc:44] Successfully opened dynamic library libcuda.so.1\n",
            "2020-05-21 18:07:17.425965: I tensorflow/stream_executor/cuda/cuda_gpu_executor.cc:981] successful NUMA node read from SysFS had negative value (-1), but there must be at least one NUMA node, so returning NUMA node zero\n",
            "2020-05-21 18:07:17.426859: I tensorflow/core/common_runtime/gpu/gpu_device.cc:1561] Found device 0 with properties: \n",
            "pciBusID: 0000:00:04.0 name: Tesla K80 computeCapability: 3.7\n",
            "coreClock: 0.8235GHz coreCount: 13 deviceMemorySize: 11.17GiB deviceMemoryBandwidth: 223.96GiB/s\n",
            "2020-05-21 18:07:17.426917: I tensorflow/stream_executor/platform/default/dso_loader.cc:44] Successfully opened dynamic library libcudart.so.10.1\n",
            "2020-05-21 18:07:17.714002: I tensorflow/stream_executor/platform/default/dso_loader.cc:44] Successfully opened dynamic library libcublas.so.10\n",
            "2020-05-21 18:07:17.850270: I tensorflow/stream_executor/platform/default/dso_loader.cc:44] Successfully opened dynamic library libcufft.so.10\n",
            "2020-05-21 18:07:17.878599: I tensorflow/stream_executor/platform/default/dso_loader.cc:44] Successfully opened dynamic library libcurand.so.10\n",
            "2020-05-21 18:07:18.147912: I tensorflow/stream_executor/platform/default/dso_loader.cc:44] Successfully opened dynamic library libcusolver.so.10\n",
            "2020-05-21 18:07:18.171891: I tensorflow/stream_executor/platform/default/dso_loader.cc:44] Successfully opened dynamic library libcusparse.so.10\n",
            "2020-05-21 18:07:18.740010: I tensorflow/stream_executor/platform/default/dso_loader.cc:44] Successfully opened dynamic library libcudnn.so.7\n",
            "2020-05-21 18:07:18.740308: I tensorflow/stream_executor/cuda/cuda_gpu_executor.cc:981] successful NUMA node read from SysFS had negative value (-1), but there must be at least one NUMA node, so returning NUMA node zero\n",
            "2020-05-21 18:07:18.741194: I tensorflow/stream_executor/cuda/cuda_gpu_executor.cc:981] successful NUMA node read from SysFS had negative value (-1), but there must be at least one NUMA node, so returning NUMA node zero\n",
            "2020-05-21 18:07:18.741955: I tensorflow/core/common_runtime/gpu/gpu_device.cc:1703] Adding visible gpu devices: 0\n",
            "2020-05-21 18:07:18.770773: I tensorflow/core/platform/profile_utils/cpu_utils.cc:102] CPU Frequency: 2300000000 Hz\n",
            "2020-05-21 18:07:18.771100: I tensorflow/compiler/xla/service/service.cc:168] XLA service 0x139b2540 initialized for platform Host (this does not guarantee that XLA will be used). Devices:\n",
            "2020-05-21 18:07:18.771164: I tensorflow/compiler/xla/service/service.cc:176]   StreamExecutor device (0): Host, Default Version\n",
            "2020-05-21 18:07:18.782668: I tensorflow/stream_executor/cuda/cuda_gpu_executor.cc:981] successful NUMA node read from SysFS had negative value (-1), but there must be at least one NUMA node, so returning NUMA node zero\n",
            "2020-05-21 18:07:18.783566: I tensorflow/compiler/xla/service/service.cc:168] XLA service 0x139b2700 initialized for platform CUDA (this does not guarantee that XLA will be used). Devices:\n",
            "2020-05-21 18:07:18.783599: I tensorflow/compiler/xla/service/service.cc:176]   StreamExecutor device (0): Tesla K80, Compute Capability 3.7\n",
            "2020-05-21 18:07:18.783815: I tensorflow/stream_executor/cuda/cuda_gpu_executor.cc:981] successful NUMA node read from SysFS had negative value (-1), but there must be at least one NUMA node, so returning NUMA node zero\n",
            "2020-05-21 18:07:18.784558: I tensorflow/core/common_runtime/gpu/gpu_device.cc:1561] Found device 0 with properties: \n",
            "pciBusID: 0000:00:04.0 name: Tesla K80 computeCapability: 3.7\n",
            "coreClock: 0.8235GHz coreCount: 13 deviceMemorySize: 11.17GiB deviceMemoryBandwidth: 223.96GiB/s\n",
            "2020-05-21 18:07:18.784650: I tensorflow/stream_executor/platform/default/dso_loader.cc:44] Successfully opened dynamic library libcudart.so.10.1\n",
            "2020-05-21 18:07:18.784727: I tensorflow/stream_executor/platform/default/dso_loader.cc:44] Successfully opened dynamic library libcublas.so.10\n",
            "2020-05-21 18:07:18.784772: I tensorflow/stream_executor/platform/default/dso_loader.cc:44] Successfully opened dynamic library libcufft.so.10\n",
            "2020-05-21 18:07:18.784826: I tensorflow/stream_executor/platform/default/dso_loader.cc:44] Successfully opened dynamic library libcurand.so.10\n",
            "2020-05-21 18:07:18.784872: I tensorflow/stream_executor/platform/default/dso_loader.cc:44] Successfully opened dynamic library libcusolver.so.10\n",
            "2020-05-21 18:07:18.784915: I tensorflow/stream_executor/platform/default/dso_loader.cc:44] Successfully opened dynamic library libcusparse.so.10\n",
            "2020-05-21 18:07:18.784970: I tensorflow/stream_executor/platform/default/dso_loader.cc:44] Successfully opened dynamic library libcudnn.so.7\n",
            "2020-05-21 18:07:18.785089: I tensorflow/stream_executor/cuda/cuda_gpu_executor.cc:981] successful NUMA node read from SysFS had negative value (-1), but there must be at least one NUMA node, so returning NUMA node zero\n",
            "2020-05-21 18:07:18.785879: I tensorflow/stream_executor/cuda/cuda_gpu_executor.cc:981] successful NUMA node read from SysFS had negative value (-1), but there must be at least one NUMA node, so returning NUMA node zero\n",
            "2020-05-21 18:07:18.786532: I tensorflow/core/common_runtime/gpu/gpu_device.cc:1703] Adding visible gpu devices: 0\n",
            "2020-05-21 18:07:24.406593: I tensorflow/core/common_runtime/gpu/gpu_device.cc:1102] Device interconnect StreamExecutor with strength 1 edge matrix:\n",
            "2020-05-21 18:07:24.406661: I tensorflow/core/common_runtime/gpu/gpu_device.cc:1108]      0 \n",
            "2020-05-21 18:07:24.406682: I tensorflow/core/common_runtime/gpu/gpu_device.cc:1121] 0:   N \n",
            "2020-05-21 18:07:24.411649: I tensorflow/stream_executor/cuda/cuda_gpu_executor.cc:981] successful NUMA node read from SysFS had negative value (-1), but there must be at least one NUMA node, so returning NUMA node zero\n",
            "2020-05-21 18:07:24.412560: I tensorflow/stream_executor/cuda/cuda_gpu_executor.cc:981] successful NUMA node read from SysFS had negative value (-1), but there must be at least one NUMA node, so returning NUMA node zero\n",
            "2020-05-21 18:07:24.413328: W tensorflow/core/common_runtime/gpu/gpu_bfc_allocator.cc:39] Overriding allow_growth setting because the TF_FORCE_GPU_ALLOW_GROWTH environment variable is set. Original config value was 0.\n",
            "2020-05-21 18:07:24.413385: I tensorflow/core/common_runtime/gpu/gpu_device.cc:1247] Created TensorFlow device (/job:localhost/replica:0/task:0/device:GPU:0 with 9953 MB memory) -> physical GPU (device: 0, name: Tesla K80, pci bus id: 0000:00:04.0, compute capability: 3.7)\n",
            "2020-05-21 18:07:25.060155: I tensorflow/stream_executor/platform/default/dso_loader.cc:44] Successfully opened dynamic library libcudnn.so.7\n",
            "2020-05-21 18:07:29.233847: I tensorflow/stream_executor/platform/default/dso_loader.cc:44] Successfully opened dynamic library libcublas.so.10\n",
            "[PySceneDetect] Output directory set:\n",
            "  /content/drive/My Drive/trailer/preds/pzysZI-1LN8_tt1724597\n",
            "[PySceneDetect] Loaded 1 video, framerate: 23.98 FPS, resolution: 1280 x 720\n",
            "[PySceneDetect] Downscale factor set to 5, effective resolution: 256 x 144\n",
            "[PySceneDetect] Scene list CSV file name format:\n",
            "  pzysZI-1LN8_tt1724597_FrameLevel_Scenes.csv\n",
            "[PySceneDetect] Image output format set: JPEG\n",
            "[PySceneDetect] Image output directory set:\n",
            "  /content/scene_imgs/pzysZI-1LN8_tt1724597/frames\n",
            "[PySceneDetect] Detecting scenes...\n",
            "100% 3352/3352 [00:19<00:00, 175.53frames/s]\n",
            "[PySceneDetect] Processed 3352 frames in 19.1 seconds (average 175.48 FPS).\n",
            "[PySceneDetect] Detected 90 scenes, average shot length 1.6 seconds.\n",
            "[PySceneDetect] Writing scene list to CSV file:\n",
            "  /content/drive/My Drive/trailer/preds/pzysZI-1LN8_tt1724597/pzysZI-1LN8_tt1724597_FrameLevel_Scenes.csv\n",
            "[PySceneDetect] Comma-separated timecode list:\n",
            "  00:00:05.005,00:00:06.006,00:00:07.216,00:00:09.384,00:00:10.302,00:00:11.428,00:00:14.097,00:00:14.932,00:00:16.016,00:00:18.727,00:00:19.811,00:00:20.437,00:00:21.146,00:00:22.272,00:00:24.858,00:00:26.985,00:00:27.736,00:00:28.570,00:00:29.446,00:00:30.697,00:00:31.406,00:00:32.658,00:00:35.369,00:00:36.870,00:00:38.080,00:00:39.706,00:00:40.707,00:00:42.751,00:00:43.710,00:00:45.587,00:00:47.798,00:00:48.590,00:00:49.341,00:00:50.133,00:00:51.635,00:00:53.136,00:00:54.429,00:00:55.430,00:00:56.598,00:00:57.808,00:00:58.558,00:00:59.393,00:01:00.310,00:01:01.728,00:01:02.312,00:01:03.647,00:01:04.398,00:01:05.148,00:01:06.066,00:01:07.818,00:01:08.694,00:01:12.406,00:01:13.198,00:01:13.991,00:01:15.492,00:01:16.243,00:01:17.035,00:01:17.828,00:01:18.996,00:01:19.746,00:01:21.248,00:01:22.416,00:01:23.458,00:01:24.126,00:01:24.835,00:01:25.419,00:01:26.461,00:01:27.045,00:01:27.713,00:01:28.338,00:01:29.047,00:01:29.715,00:01:30.424,00:01:31.008,00:01:31.800,00:01:32.384,00:01:33.302,00:01:34.094,00:01:34.845,00:01:35.679,00:01:38.557,00:01:39.683,00:01:44.813,00:01:45.564,00:01:46.565,00:01:47.733,00:01:48.775,00:01:50.235,00:02:19.181\n",
            "[PySceneDetect] Downscale factor set to 1, effective resolution: 1280 x 720\n",
            "[PySceneDetect] Generating output images (3 per scene)...\n",
            "100% 270/270 [00:15<00:00, 17.12images/s]\n",
            " 33% 1/3 [04:44<09:28, 284.34s/it]\n",
            "\n",
            "Analyze 6Duh20o-qWs_tt6057032.mp4\n",
            "[PySceneDetect] Output directory set:\n",
            "  /content/drive/My Drive/trailer/preds/6Duh20o-qWs_tt6057032\n",
            "[PySceneDetect] Loaded 1 video, framerate: 23.98 FPS, resolution: 1280 x 544\n",
            "[PySceneDetect] Downscale factor set to 5, effective resolution: 256 x 108\n",
            "[PySceneDetect] Scene list CSV file name format:\n",
            "  6Duh20o-qWs_tt6057032_FrameLevel_Scenes.csv\n",
            "[PySceneDetect] Image output format set: JPEG\n",
            "[PySceneDetect] Image output directory set:\n",
            "  /content/scene_imgs/6Duh20o-qWs_tt6057032/frames\n",
            "[PySceneDetect] Detecting scenes...\n",
            "100% 1283/1283 [00:05<00:00, 249.72frames/s]\n",
            "[PySceneDetect] Processed 1283 frames in 5.1 seconds (average 249.46 FPS).\n",
            "[PySceneDetect] Detected 9 scenes, average shot length 5.9 seconds.\n",
            "[PySceneDetect] Writing scene list to CSV file:\n",
            "  /content/drive/My Drive/trailer/preds/6Duh20o-qWs_tt6057032/6Duh20o-qWs_tt6057032_FrameLevel_Scenes.csv\n",
            "[PySceneDetect] Comma-separated timecode list:\n",
            "  00:00:14.723,00:00:19.436,00:00:25.901,00:00:27.110,00:00:31.740,00:00:35.702,00:00:38.038,00:00:39.081\n",
            "[PySceneDetect] Downscale factor set to 1, effective resolution: 1280 x 544\n",
            "[PySceneDetect] Generating output images (3 per scene)...\n",
            "100% 27/27 [00:03<00:00,  8.68images/s]\n",
            " 67% 2/3 [05:59<03:41, 221.58s/it]\n",
            "\n",
            "Analyze FNSlQ9mmJ4M_tt6777170.mp4\n",
            "[PySceneDetect] Output directory set:\n",
            "  /content/drive/My Drive/trailer/preds/FNSlQ9mmJ4M_tt6777170\n",
            "[PySceneDetect] Loaded 1 video, framerate: 23.98 FPS, resolution: 1280 x 720\n",
            "[PySceneDetect] Downscale factor set to 5, effective resolution: 256 x 144\n",
            "[PySceneDetect] Scene list CSV file name format:\n",
            "  FNSlQ9mmJ4M_tt6777170_FrameLevel_Scenes.csv\n",
            "[PySceneDetect] Image output format set: JPEG\n",
            "[PySceneDetect] Image output directory set:\n",
            "  /content/scene_imgs/FNSlQ9mmJ4M_tt6777170/frames\n",
            "[PySceneDetect] Detecting scenes...\n",
            "100% 1945/1945 [00:11<00:00, 176.48frames/s]\n",
            "[PySceneDetect] Processed 1945 frames in 11.0 seconds (average 176.40 FPS).\n",
            "[PySceneDetect] Detected 8 scenes, average shot length 10.1 seconds.\n",
            "[PySceneDetect] Writing scene list to CSV file:\n",
            "  /content/drive/My Drive/trailer/preds/FNSlQ9mmJ4M_tt6777170/FNSlQ9mmJ4M_tt6777170_FrameLevel_Scenes.csv\n",
            "[PySceneDetect] Comma-separated timecode list:\n",
            "  00:00:25.484,00:00:30.322,00:00:32.199,00:00:43.585,00:00:49.174,00:00:56.765,00:01:05.190\n",
            "[PySceneDetect] Downscale factor set to 1, effective resolution: 1280 x 720\n",
            "[PySceneDetect] Generating output images (3 per scene)...\n",
            "100% 24/24 [00:06<00:00,  3.67images/s]\n",
            "100% 3/3 [08:31<00:00, 170.47s/it]\n"
          ],
          "name": "stdout"
        }
      ]
    }
  ]
}