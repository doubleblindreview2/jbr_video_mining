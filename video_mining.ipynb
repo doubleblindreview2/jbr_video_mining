{
  "nbformat": 4,
  "nbformat_minor": 0,
  "metadata": {
    "colab": {
      "name": "video_mining.ipynb",
      "provenance": [],
      "authorship_tag": "ABX9TyOc/XZ4UKZsweSSQGDSLeWH",
      "include_colab_link": true
    },
    "kernelspec": {
      "name": "python3",
      "display_name": "Python 3"
    }
  },
  "cells": [
    {
      "cell_type": "markdown",
      "metadata": {
        "id": "view-in-github",
        "colab_type": "text"
      },
      "source": [
        "<a href=\"https://colab.research.google.com/github/doubleblindreview2/jbr_video_mining/blob/master/video_mining.ipynb\" target=\"_parent\"><img src=\"https://colab.research.google.com/assets/colab-badge.svg\" alt=\"Open In Colab\"/></a>"
      ]
    },
    {
      "cell_type": "markdown",
      "metadata": {
        "id": "5fHqjvh9mS82",
        "colab_type": "text"
      },
      "source": [
        "# **1. Load All Models**\n",
        "Requires no additional user input\n"
      ]
    },
    {
      "cell_type": "code",
      "metadata": {
        "id": "26Sv_CN6mSOd",
        "colab_type": "code",
        "colab": {}
      },
      "source": [
        ""
      ],
      "execution_count": 0,
      "outputs": []
    },
    {
      "cell_type": "markdown",
      "metadata": {
        "id": "4f_8XH-Bmmee",
        "colab_type": "text"
      },
      "source": [
        "# **2. Mount Drive and get User Input**\n",
        "Please provide a Google Drive Account, which includes \n",
        "- Video files for video mining\n",
        "- Folder for video mining results _(can be empty)_ \n",
        "- Folder for log file _(can be  empty)_\n"
      ]
    },
    {
      "cell_type": "code",
      "metadata": {
        "id": "42Icp9RCnAYB",
        "colab_type": "code",
        "colab": {}
      },
      "source": [
        ""
      ],
      "execution_count": 0,
      "outputs": []
    },
    {
      "cell_type": "markdown",
      "metadata": {
        "id": "-Ia-dYV4nBJb",
        "colab_type": "text"
      },
      "source": [
        "## **3. Run Video Mining**\n",
        "Requires no additional user input"
      ]
    },
    {
      "cell_type": "code",
      "metadata": {
        "id": "9HaWyn_Gnr49",
        "colab_type": "code",
        "colab": {}
      },
      "source": [
        ""
      ],
      "execution_count": 0,
      "outputs": []
    }
  ]
}