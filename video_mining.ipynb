{
  "nbformat": 4,
  "nbformat_minor": 0,
  "metadata": {
    "colab": {
      "name": "video_mining.ipynb",
      "provenance": [],
      "collapsed_sections": [],
      "toc_visible": true,
      "include_colab_link": true
    },
    "kernelspec": {
      "name": "python3",
      "display_name": "Python 3"
    }
  },
  "cells": [
    {
      "cell_type": "markdown",
      "metadata": {
        "id": "view-in-github",
        "colab_type": "text"
      },
      "source": [
        "<a href=\"https://colab.research.google.com/github/doubleblindreview2/jbr_video_mining/blob/master/video_mining.ipynb\" target=\"_parent\"><img src=\"https://colab.research.google.com/assets/colab-badge.svg\" alt=\"Open In Colab\"/></a>"
      ]
    },
    {
      "cell_type": "markdown",
      "metadata": {
        "id": "pW5CvsYJskRb",
        "colab_type": "text"
      },
      "source": [
        "# **JBR Video Mining Script**\n",
        "- **Output**: This script extracts various video features from a given set of videos and stores these features in multiple .csv files, which can be opened with Excel or any text editor afterwards\n",
        "- **Input**: You need to provide a Google Drive Account with a folder with video files\n",
        "- **Execution**: In order to execute this script, run all cells from top to bottom and follow the instructions"
      ]
    },
    {
      "cell_type": "markdown",
      "metadata": {
        "id": "5fHqjvh9mS82",
        "colab_type": "text"
      },
      "source": [
        "## **1. Download Models**\n",
        "_You need a Google Account to verify your legitimate use; The models will be automatically downloaded from a public GDrive_\n",
        "_____________________________________________________________\n"
      ]
    },
    {
      "cell_type": "code",
      "metadata": {
        "id": "zUUG2Emgx_ET",
        "colab_type": "code",
        "colab": {}
      },
      "source": [
        "import os\n",
        "from pydrive.auth import GoogleAuth\n",
        "from pydrive.drive import GoogleDrive\n",
        "from google.colab import auth\n",
        "from oauth2client.client import GoogleCredentials\n",
        "from tqdm import tqdm"
      ],
      "execution_count": 0,
      "outputs": []
    },
    {
      "cell_type": "markdown",
      "metadata": {
        "id": "jkvXvCwDhBlU",
        "colab_type": "text"
      },
      "source": [
        "Running the next cell will create a link. **You need to click this link and enter your Google Account credentials. Copy the code and enter it in the space below.**"
      ]
    },
    {
      "cell_type": "code",
      "metadata": {
        "id": "WhD5gLYbzkOR",
        "colab_type": "code",
        "colab": {}
      },
      "source": [
        "auth.authenticate_user()\n",
        "gauth = GoogleAuth()\n",
        "gauth.credentials = GoogleCredentials.get_application_default()\n",
        "drive = GoogleDrive(gauth)"
      ],
      "execution_count": 0,
      "outputs": []
    },
    {
      "cell_type": "markdown",
      "metadata": {
        "id": "xdNhcxUim2ta",
        "colab_type": "text"
      },
      "source": [
        "Running the next cell will download required models from a public GDrive. After running it, you can verify success by clicking on the folder icon on the left side of this screen.There should be a 'downloads' folder containing various files (You may need to click 'Refresh')."
      ]
    },
    {
      "cell_type": "code",
      "metadata": {
        "id": "O2hky3wJF17G",
        "colab_type": "code",
        "colab": {}
      },
      "source": [
        "if not os.path.exists('downloads'): os.makedirs('downloads')\n",
        "os.chdir('./downloads/')\n",
        "\n",
        "folder_id = '1e-UQc-ylzVOOvW2ZiOCpnP-EEziHA4cQ'\n",
        "file_list = drive.ListFile({'q': \"'{}' in parents and trashed=false\".format(folder_id)}).GetList()\n",
        "for file in tqdm(file_list):\n",
        "    file.GetContentFile(file['title'])\n",
        "\n",
        "os.chdir('/content/')"
      ],
      "execution_count": 0,
      "outputs": []
    },
    {
      "cell_type": "markdown",
      "metadata": {
        "id": "4f_8XH-Bmmee",
        "colab_type": "text"
      },
      "source": [
        "## **2. Provide Input & Select Features**\n",
        "_You need to provide a Google Drive Account, which includes a folder with video files for video mining._\n",
        "_____________________________________________________________\n"
      ]
    },
    {
      "cell_type": "markdown",
      "metadata": {
        "id": "l1G3nRSNiHPi",
        "colab_type": "text"
      },
      "source": [
        "Running the next cell will create a link. **You need to click this link and enter your Google Account credentials. Copy the code and enter it in the space below.**"
      ]
    },
    {
      "cell_type": "code",
      "metadata": {
        "id": "42Icp9RCnAYB",
        "colab_type": "code",
        "colab": {}
      },
      "source": [
        "from google.colab import drive\n",
        "drive.mount('/content/drive')"
      ],
      "execution_count": 0,
      "outputs": []
    },
    {
      "cell_type": "markdown",
      "metadata": {
        "id": "7S84YwhciPYP",
        "colab_type": "text"
      },
      "source": [
        "**Please provide the correct pathes to your folder with videos. You probably need to change the text after '/My Drive/**.\n",
        "\n",
        "You can verify the correct path by clicking on the folder icon on the left side of this screen and search within the 'drive' folder. (You may need to click 'Refresh') "
      ]
    },
    {
      "cell_type": "code",
      "metadata": {
        "id": "7Xc6ul7ETY2g",
        "colab_type": "code",
        "colab": {}
      },
      "source": [
        "in_folder  = '/content/drive/My Drive/trailer/vids/'  # folder with videos, names are used as IDs"
      ],
      "execution_count": 0,
      "outputs": []
    },
    {
      "cell_type": "markdown",
      "metadata": {
        "id": "mJuuNBDUkGee",
        "colab_type": "text"
      },
      "source": [
        "You **can unselect features** you are not interested in **by writing 'False' instead of 'True'**. This may drastically increase processing speed."
      ]
    },
    {
      "cell_type": "code",
      "metadata": {
        "id": "3BR9d_Kvui7m",
        "colab_type": "code",
        "colab": {}
      },
      "source": [
        "extract_length           = False # get length of video\n",
        "extract_cuts             = False # get scene cuts\n",
        "extract_colors           = False # get brightness and  color information\n",
        "extract_faces            = False # get faces\n",
        "extract_emotions         = False # get 8 different emotions per face \n",
        "extract_objects          = False # get 80 objects\n",
        "extract_variance         = True # get semantic variance"
      ],
      "execution_count": 0,
      "outputs": []
    },
    {
      "cell_type": "markdown",
      "metadata": {
        "id": "jnI2Vu0djci4",
        "colab_type": "text"
      },
      "source": [
        "The following folders and the logfile will be created to store the results of your analysis. **You do not have to change them, unless you want to use your custom folder** structure to store results"
      ]
    },
    {
      "cell_type": "code",
      "metadata": {
        "id": "505rRLPFjeGG",
        "colab_type": "code",
        "colab": {}
      },
      "source": [
        "out_folder = '/content/drive/My Drive/trailer/preds/' # folder to store extracted features\n",
        "log_name   = '2020-05-12_logfile.csv' # name of lofile, pls include .csv ending \n",
        "log_folder = '/content/drive/My Drive/trailer/logs/' # folder for logfile\n",
        "yolo_folder= 'D:/JBR_video_mining/yolov3/' # TO BE REPLACED directory for yolov3 folder    "
      ],
      "execution_count": 0,
      "outputs": []
    },
    {
      "cell_type": "markdown",
      "metadata": {
        "id": "ZpkeNVMJd4IH",
        "colab_type": "text"
      },
      "source": [
        "## **3. Install Requirements**\n",
        "_**Run all cells - no additional input required**_\n",
        "\n",
        "_This will install all required packages. (May take a few minutes)_\n",
        "______________________________________________________________________________"
      ]
    },
    {
      "cell_type": "code",
      "metadata": {
        "id": "YaUsGyS9ZfSx",
        "colab_type": "code",
        "colab": {}
      },
      "source": [
        "from IPython.utils import io\n",
        "from downloads.video_mining_dependencies import*\n",
        "with io.capture_output() as captured:\n",
        "  if extract_cuts: install_dependencies_cuts()\n",
        "  if extract_emotions: install_dependencies_emotions()\n",
        "  if extract_variance: install_dependencies_variance()"
      ],
      "execution_count": 0,
      "outputs": []
    },
    {
      "cell_type": "markdown",
      "metadata": {
        "id": "-Ia-dYV4nBJb",
        "colab_type": "text"
      },
      "source": [
        "## **4. Extract Selected Features**\n",
        "_**Run all cells - no additional input required**_\n",
        "\n",
        "_This will extract your selected features by looping through your provided video files folder. (This may take siginificant amount of time)._\n",
        "______________________________________________________________________________"
      ]
    },
    {
      "cell_type": "code",
      "metadata": {
        "id": "Yo_xgtI-ONHB",
        "colab_type": "code",
        "colab": {}
      },
      "source": [
        "import os\n",
        "import pandas as pd\n",
        "from datetime import datetime\n",
        "from tqdm import tqdm\n",
        "from downloads.video_mining_functions import*"
      ],
      "execution_count": 0,
      "outputs": []
    },
    {
      "cell_type": "code",
      "metadata": {
        "id": "9HaWyn_Gnr49",
        "colab_type": "code",
        "colab": {}
      },
      "source": [
        "if not os.path.exists(out_folder): os.makedirs(out_folder)\n",
        "if not os.path.exists(log_folder): os.makedirs(log_folder)\n",
        "logcols = ['time','name','log.length','log.cuts','log.colors','log.faces','log.emotions','log.objects','log.variance']\n",
        "pd.DataFrame(columns=logcols).to_csv(log_folder+log_name,index_label=False)"
      ],
      "execution_count": 0,
      "outputs": []
    },
    {
      "cell_type": "code",
      "metadata": {
        "id": "Yo2zARx79ii-",
        "colab_type": "code",
        "colab": {}
      },
      "source": [
        "for i in tqdm(os.listdir(in_folder)[:2]): # Loop through folder with videos to extract selected features\n",
        "\n",
        "  ### Provide name, input- and output_path\n",
        "  name = i.split('.')[0]\n",
        "  input_path = in_folder+i\n",
        "  output_path = out_folder +name +'/'\n",
        "  if not os.path.exists(output_path): os.makedirs(output_path)\n",
        "  \n",
        "  ### Extract selected features\n",
        "  if extract_length: log_length = vid_length(input_path,output_path,name)\n",
        "  else: log_length=False\n",
        "  if extract_cuts: log_cuts = get_cuts(input_path,output_path,name)\n",
        "  else:log_cuts=False\n",
        "  if extract_colors: log_colors = color_loop(input_path,output_path,name)\n",
        "  else:log_colors=False\n",
        "  if extract_faces: log_faces = video_loop_faces(input_path,output_path,name)\n",
        "  else: log_faces=False\n",
        "  if extract_emotions: log_emotions = video_loop_faces_predict_emotion(input_path,output_path,name)\n",
        "  else: log_emotions=False\n",
        "  if extract_objects: log_objects = coco_loop(input_path,output_path,name)\n",
        "  else: log_objects=False\n",
        "  if extract_variance: log_variance = get_visual_variance(input_path,output_path,name)\n",
        "  else: log_variance=False\n",
        "        \n",
        "  ### Write potential errors into logfile\n",
        "  row = pd.Series([datetime.now(),name,log_length,log_cuts,log_colors,log_faces,log_emotions,log_objects,log_variance])\n",
        "  pd.DataFrame([row]).to_csv(log_folder+log_name,mode='a+',header=False,index=None)"
      ],
      "execution_count": 0,
      "outputs": []
    },
    {
      "cell_type": "code",
      "metadata": {
        "id": "2WHVJnCjhx8M",
        "colab_type": "code",
        "colab": {}
      },
      "source": [
        "watch_log = pd.read_csv(log_folder + log_name)\n",
        "watch_log.head()"
      ],
      "execution_count": 0,
      "outputs": []
    }
  ]
}