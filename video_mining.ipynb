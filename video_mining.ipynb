{
  "nbformat": 4,
  "nbformat_minor": 0,
  "metadata": {
    "colab": {
      "name": "video_mining.ipynb",
      "provenance": [],
      "toc_visible": true,
      "authorship_tag": "ABX9TyNAci4GeZ5iRILwxNZR1/MW",
      "include_colab_link": true
    },
    "kernelspec": {
      "name": "python3",
      "display_name": "Python 3"
    }
  },
  "cells": [
    {
      "cell_type": "markdown",
      "metadata": {
        "id": "view-in-github",
        "colab_type": "text"
      },
      "source": [
        "<a href=\"https://colab.research.google.com/github/doubleblindreview2/jbr_video_mining/blob/master/video_mining.ipynb\" target=\"_parent\"><img src=\"https://colab.research.google.com/assets/colab-badge.svg\" alt=\"Open In Colab\"/></a>"
      ]
    },
    {
      "cell_type": "markdown",
      "metadata": {
        "id": "5fHqjvh9mS82",
        "colab_type": "text"
      },
      "source": [
        "# **1. Load All Models**\n",
        "Requires no additional user input\n"
      ]
    },
    {
      "cell_type": "code",
      "metadata": {
        "id": "26Sv_CN6mSOd",
        "colab_type": "code",
        "colab": {}
      },
      "source": [
        "import pandas as pd\n",
        "import numpy as np\n",
        "import requests\n",
        "from io import StringIO\n",
        "\n",
        "# url = requests.get('https://drive.google.com/file/d/1vndXL0NJgUtOw_kU2BdMEzAglAOBw49u/view?usp=sharing')\n",
        "# csv_raw = StringIO(url.text)\n",
        "# url.text\n",
        "\n",
        "# rgb2color = pd.read_csv('https://drive.google.com/file/d/1vndXL0NJgUtOw_kU2BdMEzAglAOBw49u/view?usp=sharing', engine = 'python')\n",
        "\n",
        "# w2c = np.array(open('https://drive.google.com/file/d/1vndXL0NJgUtOw_kU2BdMEzAglAOBw49u/view?usp=sharing', \"rt\").read().splitlines())\n"
      ],
      "execution_count": 0,
      "outputs": []
    },
    {
      "cell_type": "markdown",
      "metadata": {
        "id": "4f_8XH-Bmmee",
        "colab_type": "text"
      },
      "source": [
        "# **2. Mount Drive and get User Input**\n",
        "Please provide a Google Drive Account, which includes \n",
        "- Video files for video mining\n",
        "- Folder for video mining results _(can be empty)_ \n",
        "- Folder for log file _(can be  empty)_\n"
      ]
    },
    {
      "cell_type": "code",
      "metadata": {
        "id": "42Icp9RCnAYB",
        "colab_type": "code",
        "colab": {
          "base_uri": "https://localhost:8080/",
          "height": 121
        },
        "outputId": "2f4994f6-a4b8-48d4-8d8a-dbd8761cefe9"
      },
      "source": [
        "# Mount Google Drive\n",
        "from google.colab import drive\n",
        "drive.mount('/content/drive')"
      ],
      "execution_count": 1,
      "outputs": [
        {
          "output_type": "stream",
          "text": [
            "Go to this URL in a browser: https://accounts.google.com/o/oauth2/auth?client_id=947318989803-6bn6qk8qdgf4n4g3pfee6491hc0brc4i.apps.googleusercontent.com&redirect_uri=urn%3aietf%3awg%3aoauth%3a2.0%3aoob&response_type=code&scope=email%20https%3a%2f%2fwww.googleapis.com%2fauth%2fdocs.test%20https%3a%2f%2fwww.googleapis.com%2fauth%2fdrive%20https%3a%2f%2fwww.googleapis.com%2fauth%2fdrive.photos.readonly%20https%3a%2f%2fwww.googleapis.com%2fauth%2fpeopleapi.readonly\n",
            "\n",
            "Enter your authorization code:\n",
            "··········\n",
            "Mounted at /content/drive\n"
          ],
          "name": "stdout"
        }
      ]
    },
    {
      "cell_type": "markdown",
      "metadata": {
        "id": "-Ia-dYV4nBJb",
        "colab_type": "text"
      },
      "source": [
        "## **3. Run Video Mining**\n",
        "Requires no additional user input"
      ]
    },
    {
      "cell_type": "code",
      "metadata": {
        "id": "9HaWyn_Gnr49",
        "colab_type": "code",
        "colab": {}
      },
      "source": [
        ""
      ],
      "execution_count": 0,
      "outputs": []
    }
  ]
}