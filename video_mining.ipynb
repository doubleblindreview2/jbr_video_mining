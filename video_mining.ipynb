{
  "nbformat": 4,
  "nbformat_minor": 0,
  "metadata": {
    "colab": {
      "name": "video_mining.ipynb",
      "provenance": [],
      "collapsed_sections": [],
      "toc_visible": true,
      "include_colab_link": true
    },
    "kernelspec": {
      "name": "python3",
      "display_name": "Python 3"
    }
  },
  "cells": [
    {
      "cell_type": "markdown",
      "metadata": {
        "id": "view-in-github",
        "colab_type": "text"
      },
      "source": [
        "<a href=\"https://colab.research.google.com/github/doubleblindreview2/jbr_video_mining/blob/master/video_mining.ipynb\" target=\"_parent\"><img src=\"https://colab.research.google.com/assets/colab-badge.svg\" alt=\"Open In Colab\"/></a>"
      ]
    },
    {
      "cell_type": "markdown",
      "metadata": {
        "id": "5fHqjvh9mS82",
        "colab_type": "text"
      },
      "source": [
        "# **1. Download All Models**\n",
        "You need a Google Account to verify your legitimate use \n"
      ]
    },
    {
      "cell_type": "code",
      "metadata": {
        "id": "zUUG2Emgx_ET",
        "colab_type": "code",
        "colab": {}
      },
      "source": [
        "### Import required libraries\n",
        "import os\n",
        "from pydrive.auth import GoogleAuth\n",
        "from pydrive.drive import GoogleDrive\n",
        "from google.colab import auth\n",
        "from oauth2client.client import GoogleCredentials"
      ],
      "execution_count": 0,
      "outputs": []
    },
    {
      "cell_type": "code",
      "metadata": {
        "id": "WhD5gLYbzkOR",
        "colab_type": "code",
        "colab": {}
      },
      "source": [
        "### Verify you are a legitimate user\n",
        "auth.authenticate_user()\n",
        "gauth = GoogleAuth()\n",
        "gauth.credentials = GoogleCredentials.get_application_default()\n",
        "drive = GoogleDrive(gauth)"
      ],
      "execution_count": 0,
      "outputs": []
    },
    {
      "cell_type": "code",
      "metadata": {
        "id": "O2hky3wJF17G",
        "colab_type": "code",
        "outputId": "e6de2640-e98b-47a8-d0de-f167894d2858",
        "colab": {
          "base_uri": "https://localhost:8080/",
          "height": 86
        }
      },
      "source": [
        "### Download models from public Drive\n",
        "if not os.path.exists('downloads'): os.makedirs('downloads')\n",
        "os.chdir('./downloads/')\n",
        "\n",
        "folder_id = '1e-UQc-ylzVOOvW2ZiOCpnP-EEziHA4cQ'\n",
        "file_list = drive.ListFile({'q': \"'{}' in parents and trashed=false\".format(folder_id)}).GetList()\n",
        "for i, file in enumerate(sorted(file_list, key = lambda x: x['title']), start=1):\n",
        "    print('Downloading {} from Public GDrive ({}/{})'.format(file['title'], i, len(file_list)))\n",
        "    file.GetContentFile(file['title'])\n",
        "\n",
        "os.chdir('/content/')"
      ],
      "execution_count": 3,
      "outputs": [
        {
          "output_type": "stream",
          "text": [
            "Downloading PySceneDetect-master.zip from Public GDrive (1/4)\n",
            "Downloading rgb2colors.csv from Public GDrive (2/4)\n",
            "Downloading video_mining_dependencies.py from Public GDrive (3/4)\n",
            "Downloading video_mining_functions.py from Public GDrive (4/4)\n"
          ],
          "name": "stdout"
        }
      ]
    },
    {
      "cell_type": "markdown",
      "metadata": {
        "id": "4f_8XH-Bmmee",
        "colab_type": "text"
      },
      "source": [
        "# **2. Mount Your Drive and Provide Input**\n",
        "You need to provide a Google Drive Account, which includes:\n",
        "- Video files for video mining\n",
        "- Folder for video mining results _(can be empty)_ \n",
        "- Folder for log file _(can be  empty)_\n"
      ]
    },
    {
      "cell_type": "code",
      "metadata": {
        "id": "42Icp9RCnAYB",
        "colab_type": "code",
        "outputId": "1ebdf3d5-c6f9-4d48-cd95-925fe5dfeaa0",
        "colab": {
          "base_uri": "https://localhost:8080/",
          "height": 123
        }
      },
      "source": [
        "### Mount Your Google Drive\n",
        "from google.colab import drive\n",
        "drive.mount('/content/drive')"
      ],
      "execution_count": 4,
      "outputs": [
        {
          "output_type": "stream",
          "text": [
            "Go to this URL in a browser: https://accounts.google.com/o/oauth2/auth?client_id=947318989803-6bn6qk8qdgf4n4g3pfee6491hc0brc4i.apps.googleusercontent.com&redirect_uri=urn%3aietf%3awg%3aoauth%3a2.0%3aoob&response_type=code&scope=email%20https%3a%2f%2fwww.googleapis.com%2fauth%2fdocs.test%20https%3a%2f%2fwww.googleapis.com%2fauth%2fdrive%20https%3a%2f%2fwww.googleapis.com%2fauth%2fdrive.photos.readonly%20https%3a%2f%2fwww.googleapis.com%2fauth%2fpeopleapi.readonly\n",
            "\n",
            "Enter your authorization code:\n",
            "··········\n",
            "Mounted at /content/drive\n"
          ],
          "name": "stdout"
        }
      ]
    },
    {
      "cell_type": "code",
      "metadata": {
        "id": "7Xc6ul7ETY2g",
        "colab_type": "code",
        "colab": {}
      },
      "source": [
        "### Provide data input for analyis - change required information here\n",
        "in_folder  = '/content/drive/My Drive/trailer/vids/'                   # folder with all videos, names will be used as IDs\n",
        "out_folder = '/content/drive/My Drive/trailer/preds/'                  # folder to store extracted features\n",
        "log_name   = '2020-05-05_logfile.csv'                                      # name of lofile, including ending .csv\n",
        "log_folder = '/content/drive/My Drive/trailer/logs/'                   # folder for logfile\n",
        "yolo_folder= 'D:/JBR_video_mining/yolov3/'                      # TO BE REPLACED directory for yolov3 folder    \n",
        "\n",
        "### Select features to be extracted\n",
        "extract_length           = True                                # get length of video\n",
        "extract_cuts             = True                                # get scene cuts\n",
        "extract_colors           = False                                # get brightness and  color information\n",
        "extract_faces            = False                                # get faces\n",
        "extract_emotions         = False                                # get 8 different emotions per face \n",
        "extract_objects          = False                                # get 80 objects"
      ],
      "execution_count": 0,
      "outputs": []
    },
    {
      "cell_type": "markdown",
      "metadata": {
        "id": "ZpkeNVMJd4IH",
        "colab_type": "text"
      },
      "source": [
        "# **3. Install Requirements**\n",
        "Run All Cells - No additional input required"
      ]
    },
    {
      "cell_type": "code",
      "metadata": {
        "id": "YaUsGyS9ZfSx",
        "colab_type": "code",
        "colab": {}
      },
      "source": [
        "# ### Load additionally required modules \n",
        "from IPython.utils import io\n",
        "from downloads.video_mining_dependencies import*\n",
        "\n",
        "with io.capture_output() as captured:\n",
        "  if extract_cuts: install_dependencies_cuts()"
      ],
      "execution_count": 0,
      "outputs": []
    },
    {
      "cell_type": "markdown",
      "metadata": {
        "id": "-Ia-dYV4nBJb",
        "colab_type": "text"
      },
      "source": [
        "# **4. Run Video Mining**\n",
        "Run All Cells - No additional input required"
      ]
    },
    {
      "cell_type": "code",
      "metadata": {
        "id": "Yo_xgtI-ONHB",
        "colab_type": "code",
        "colab": {}
      },
      "source": [
        "import time\n",
        "import os\n",
        "import pandas as pd\n",
        "import numpy as np\n",
        "from tqdm import tqdm\n",
        "from downloads.video_mining_functions import*"
      ],
      "execution_count": 0,
      "outputs": []
    },
    {
      "cell_type": "code",
      "metadata": {
        "id": "9HaWyn_Gnr49",
        "colab_type": "code",
        "colab": {}
      },
      "source": [
        "### Create logfile\n",
        "# w2c = np.array(open(RGB_to_Col, \"rt\").read().splitlines()) # get rgb to colors file\n",
        "logfile = pd.DataFrame(columns=['time','vid_id','log.length','log.cuts','log.colors','log.faces','log.emotions','log.objects']) # create logfile for video analysis\n",
        "logfile.to_csv(log_folder+log_name,index_label=False)"
      ],
      "execution_count": 0,
      "outputs": []
    },
    {
      "cell_type": "code",
      "metadata": {
        "id": "Yo2zARx79ii-",
        "colab_type": "code",
        "outputId": "52c1badd-17a9-40ba-c3d6-c3ef04409c4c",
        "colab": {
          "base_uri": "https://localhost:8080/",
          "height": 72
        }
      },
      "source": [
        "### Loop through folder with videos to extract selected features\n",
        "for i in tqdm(os.listdir(in_folder)[:1]): \n",
        "\n",
        "  ### Provide name, input- and output_path\n",
        "  vid_id = i.split('.')[0]\n",
        "  input_path = in_folder+i\n",
        "  output_path = out_folder +vid_id +'/'\n",
        "  if not os.path.exists(output_path): os.makedirs(output_path)\n",
        "  \n",
        "  ### Extract selected features\n",
        "  if extract_length: log_length = vid_length(input_path,output_path,vid_id)      # get length of video\n",
        "  else: log_length=False\n",
        "\n",
        "  if extract_cuts: log_cuts = get_cuts(input_path,output_path,vid_id)      # get length of video\n",
        "  else:log_cuts=False\n",
        "\n",
        "  if extract_colors: log_colors = color_loop(input_path,output_path,vid_id)      # get length of video\n",
        "  else:log_colors=False\n",
        "\n",
        "  if extract_faces: log_faces = video_loop_faces(input_path,output_path,vid_id)      # get length of video\n",
        "  else: log_faces=False\n",
        "\n",
        "  if extract_emotions: log_emotions = video_loop_faces(input_path,output_path,vid_id)      # get length of video\n",
        "  else: log_emotions=False\n",
        "\n",
        "  if extract_objects: log_coco = coco_loop(input_path,output_path,vid_id)      # get length of video\n",
        "  else: log_coco=False\n",
        "        \n",
        "  ### write logfile\n",
        "  row = '\"'+time.strftime(\"%d %b %Y %H:%M:%S\", time.localtime())+'\",\"'+str(vid_id)+'\",\"'+str(log_length)+'\",\"'+str(log_cuts)+'\",\"'+str(log_colors)+'\",\"'+str(log_faces)+'\",\"'+str(log_emotions)+'\",\"'+str(log_coco)+'\"'+'\\n'\n",
        "  write_csv(row,log_folder,log_name,mode = 'a+')\n"
      ],
      "execution_count": 12,
      "outputs": [
        {
          "output_type": "stream",
          "text": [
            "\r  0%|          | 0/1 [00:00<?, ?it/s]"
          ],
          "name": "stderr"
        },
        {
          "output_type": "stream",
          "text": [
            "scenedetect --input \"/content/drive/My Drive/trailer/vids/pzysZI-1LN8_tt1724597.mp4\" --output \"/content/drive/My Drive/trailer/preds/pzysZI-1LN8_tt1724597/\" detect-content list-scenes -f pzysZI-1LN8_tt1724597_FrameLevel_Scenes.csv -q \n"
          ],
          "name": "stdout"
        },
        {
          "output_type": "stream",
          "text": [
            "100%|██████████| 1/1 [00:21<00:00, 21.20s/it]\n"
          ],
          "name": "stderr"
        }
      ]
    },
    {
      "cell_type": "code",
      "metadata": {
        "id": "2WHVJnCjhx8M",
        "colab_type": "code",
        "colab": {
          "base_uri": "https://localhost:8080/",
          "height": 79
        },
        "outputId": "692967a1-9114-4c61-d6f6-8a9d7597f18c"
      },
      "source": [
        "watch_log = pd.read_csv('./drive/My Drive/trailer/logs/2020-05-05_logfile.csv')\n",
        "watch_log.head()"
      ],
      "execution_count": 13,
      "outputs": [
        {
          "output_type": "execute_result",
          "data": {
            "text/html": [
              "<div>\n",
              "<style scoped>\n",
              "    .dataframe tbody tr th:only-of-type {\n",
              "        vertical-align: middle;\n",
              "    }\n",
              "\n",
              "    .dataframe tbody tr th {\n",
              "        vertical-align: top;\n",
              "    }\n",
              "\n",
              "    .dataframe thead th {\n",
              "        text-align: right;\n",
              "    }\n",
              "</style>\n",
              "<table border=\"1\" class=\"dataframe\">\n",
              "  <thead>\n",
              "    <tr style=\"text-align: right;\">\n",
              "      <th></th>\n",
              "      <th>time</th>\n",
              "      <th>vid_id</th>\n",
              "      <th>log.length</th>\n",
              "      <th>log.cuts</th>\n",
              "      <th>log.colors</th>\n",
              "      <th>log.faces</th>\n",
              "      <th>log.emotions</th>\n",
              "      <th>log.objects</th>\n",
              "    </tr>\n",
              "  </thead>\n",
              "  <tbody>\n",
              "    <tr>\n",
              "      <th>0</th>\n",
              "      <td>05 May 2020 16:10:02</td>\n",
              "      <td>pzysZI-1LN8_tt1724597</td>\n",
              "      <td>False</td>\n",
              "      <td>True</td>\n",
              "      <td>False</td>\n",
              "      <td>False</td>\n",
              "      <td>False</td>\n",
              "      <td>False</td>\n",
              "    </tr>\n",
              "  </tbody>\n",
              "</table>\n",
              "</div>"
            ],
            "text/plain": [
              "                   time                 vid_id  ...  log.emotions  log.objects\n",
              "0  05 May 2020 16:10:02  pzysZI-1LN8_tt1724597  ...         False        False\n",
              "\n",
              "[1 rows x 8 columns]"
            ]
          },
          "metadata": {
            "tags": []
          },
          "execution_count": 13
        }
      ]
    }
  ]
}